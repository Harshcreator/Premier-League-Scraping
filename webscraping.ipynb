{
 "cells": [
  {
   "cell_type": "code",
   "execution_count": 23,
   "metadata": {},
   "outputs": [],
   "source": [
    "from bs4 import BeautifulSoup\n",
    "import requests\n",
    "import pandas as pd\n",
    "import time"
   ]
  },
  {
   "cell_type": "code",
   "execution_count": 24,
   "metadata": {},
   "outputs": [],
   "source": [
    "all_teams = []"
   ]
  },
  {
   "cell_type": "code",
   "execution_count": null,
   "metadata": {},
   "outputs": [],
   "source": [
    "url = 'https://fbref.com/en/comps/9/Premier-League-Stats'\n",
    "html = requests.get(url).text\n",
    "\n",
    "# Try using 'html.parser' instead of 'lxml'\n",
    "soup = BeautifulSoup(html, 'html.parser')\n",
    "\n",
    "# Find all tables with the class 'stats_table'\n",
    "tables = soup.find_all('table', class_='stats_table')\n",
    "\n",
    "if tables:\n",
    "    table = tables[0]  # Get the first table\n",
    "    print(table)  # Print to check if data is being fetched\n",
    "else:\n",
    "    print(\"No table found with class 'stats_table'\")"
   ]
  },
  {
   "cell_type": "code",
   "execution_count": 26,
   "metadata": {},
   "outputs": [],
   "source": [
    "links = table.find_all('a') ## finding all links in the table \n",
    "links = [l.get(\"href\") for l in links] ##parsing through links\n",
    "links = [l for l in links if '/squads/' in l] ##filtering through links to only get squads"
   ]
  },
  {
   "cell_type": "code",
   "execution_count": 27,
   "metadata": {},
   "outputs": [],
   "source": [
    "team_urls = [f\"https://fbref.com{l}\" for l in links] ## formatting back to links"
   ]
  },
  {
   "cell_type": "code",
   "execution_count": null,
   "metadata": {},
   "outputs": [],
   "source": [
    "for team_url in team_urls:\n",
    "    team_name = team_url.split(\"/\")[-1].replace(\"-Stats\", \"\")  # Extract team name\n",
    "    print(f\"Scraping data for {team_name}...\")\n",
    "\n",
    "    headers = {\n",
    "    \"User-Agent\": \"Mozilla/5.0 (Windows NT 10.0; Win64; x64) AppleWebKit/537.36 (KHTML, like Gecko) Chrome/120.0.0.0 Safari/537.36\"\n",
    "    }\n",
    "    \n",
    "    data = requests.get(team_url, headers=headers).text\n",
    "    soup = BeautifulSoup(data, 'html.parser')\n",
    "\n",
    "\n",
    "    stats_tables = soup.find_all('table', class_=\"stats_table\")\n",
    "    if not stats_tables:\n",
    "        print(f\"No stats table found for {team_name}, skipping...\")\n",
    "        continue\n",
    "\n",
    "    stats = stats_tables[0]  # Get the first table\n",
    "    print(soup.prettify())  # View the entire page source\n",
    "\n",
    "    # Convert table HTML to DataFrame\n",
    "    team_data = pd.read_html(str(stats))[0]\n",
    "\n",
    "    # Drop multi-level index if present\n",
    "    if isinstance(team_data.columns, pd.MultiIndex):\n",
    "        team_data.columns = team_data.columns.droplevel(0)\n",
    "\n",
    "    team_data[\"Team\"] = team_name\n",
    "    all_teams.append(team_data)  # Append to list\n",
    "\n",
    "    time.sleep(5)  # Prevent getting blocked\n",
    "\n"
   ]
  },
  {
   "cell_type": "code",
   "execution_count": null,
   "metadata": {},
   "outputs": [],
   "source": [
    "# Ensure all DataFrames have the same structure\n",
    "common_columns = list(set.intersection(*(set(df.columns) for df in all_teams)))\n",
    "all_teams = [df[common_columns] for df in all_teams]  # Keep only common columns\n",
    "print(f\"Total teams scraped: {len(all_teams)}\")\n",
    "for i, df in enumerate(all_teams):\n",
    "    print(f\"DataFrame {i} shape: {df.shape}\")\n",
    "\n",
    "# Reset index and concatenate\n",
    "stat_df = pd.concat([df.reset_index(drop=True) for df in all_teams], ignore_index=True)\n",
    "\n",
    "# Save to CSV\n",
    "stat_df.to_csv(\"stats.csv\", index=False)\n",
    "print(\"CSV successfully saved!\")"
   ]
  }
 ],
 "metadata": {
  "kernelspec": {
   "display_name": "Python 3",
   "language": "python",
   "name": "python3"
  },
  "language_info": {
   "codemirror_mode": {
    "name": "ipython",
    "version": 3
   },
   "file_extension": ".py",
   "mimetype": "text/x-python",
   "name": "python",
   "nbconvert_exporter": "python",
   "pygments_lexer": "ipython3",
   "version": "3.13.1"
  }
 },
 "nbformat": 4,
 "nbformat_minor": 2
}
